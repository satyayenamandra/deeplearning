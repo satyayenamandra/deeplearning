{
  "nbformat": 4,
  "nbformat_minor": 0,
  "metadata": {
    "colab": {
      "name": "01_neural_network_regression_with_tensorflow.ipynb",
      "provenance": [],
      "authorship_tag": "ABX9TyOA8EkBdy8bnWf0UOjdxddW",
      "include_colab_link": true
    },
    "kernelspec": {
      "name": "python3",
      "display_name": "Python 3"
    },
    "language_info": {
      "name": "python"
    }
  },
  "cells": [
    {
      "cell_type": "markdown",
      "metadata": {
        "id": "view-in-github",
        "colab_type": "text"
      },
      "source": [
        "<a href=\"https://colab.research.google.com/github/satyayenamandra/deeplearning/blob/main/01_neural_network_regression_with_tensorflow.ipynb\" target=\"_parent\"><img src=\"https://colab.research.google.com/assets/colab-badge.svg\" alt=\"Open In Colab\"/></a>"
      ]
    },
    {
      "cell_type": "markdown",
      "source": [
        "# Introduction to Regression with Neural Networks in TensorFlow\n",
        "\n",
        "There are many definitions for a regression "
      ],
      "metadata": {
        "id": "drXy-Tc9fCau"
      }
    },
    {
      "cell_type": "code",
      "source": [
        "import tensorflow as tf\n",
        "\n",
        "print(tf.__version__)"
      ],
      "metadata": {
        "colab": {
          "base_uri": "https://localhost:8080/"
        },
        "id": "XAYOMMfafZso",
        "outputId": "d42fb1da-df15-4605-b1b0-4ff52d94e7eb"
      },
      "execution_count": 23,
      "outputs": [
        {
          "output_type": "stream",
          "name": "stdout",
          "text": [
            "2.7.0\n"
          ]
        }
      ]
    },
    {
      "cell_type": "markdown",
      "source": [
        "# Creating some data to view and fit\n",
        "\n"
      ],
      "metadata": {
        "id": "2WeHnjwIfc5a"
      }
    },
    {
      "cell_type": "code",
      "source": [
        "import numpy as np\n",
        "import matplotlib.pyplot as plt\n",
        "\n",
        "# Create features\n",
        "X = np.array([-7.0, -4.0, -1.0, 2.0, 5.0, 8.0, 11.0, 14.0])\n",
        "\n",
        "# Create labels\n",
        "y = np.array([3.0, 6.0, 9.0, 12.0, 15.0, 18.0, 21.0, 24.0])\n",
        "\n",
        "# visualize it\n",
        "plt.scatter(X, y)"
      ],
      "metadata": {
        "colab": {
          "base_uri": "https://localhost:8080/",
          "height": 286
        },
        "id": "LK3kH5EHfmXH",
        "outputId": "12e82a8d-17f9-4e28-e470-5dae2c93e15d"
      },
      "execution_count": 47,
      "outputs": [
        {
          "output_type": "execute_result",
          "data": {
            "text/plain": [
              "<matplotlib.collections.PathCollection at 0x7f6835048690>"
            ]
          },
          "metadata": {},
          "execution_count": 47
        },
        {
          "output_type": "display_data",
          "data": {
            "image/png": "[encoded data removed]",
            "text/plain": [
              "<Figure size 432x288 with 1 Axes>"
            ]
          },
          "metadata": {
            "needs_background": "light"
          }
        }
      ]
    },
    {
      "cell_type": "code",
      "source": [
        "y == X + 10"
      ],
      "metadata": {
        "colab": {
          "base_uri": "https://localhost:8080/"
        },
        "id": "wNyd366dgLW5",
        "outputId": "cddf3210-6125-4ae4-e80b-9d49030972d5"
      },
      "execution_count": 25,
      "outputs": [
        {
          "output_type": "execute_result",
          "data": {
            "text/plain": [
              "array([ True,  True,  True,  True,  True,  True,  True,  True])"
            ]
          },
          "metadata": {},
          "execution_count": 25
        }
      ]
    },
    {
      "cell_type": "markdown",
      "source": [
        "### Input and Output shapes"
      ],
      "metadata": {
        "id": "BMcmjEjcgfC6"
      }
    },
    {
      "cell_type": "code",
      "source": [
        "# Create a demo tensor for housing price prediction problem\n",
        "\n",
        "house_info = tf.constant([\"bedroom\",\"bathroom\",\"garage\"])\n",
        "house_price = tf.constant([93700])\n",
        "\n",
        "house_info, house_price"
      ],
      "metadata": {
        "colab": {
          "base_uri": "https://localhost:8080/"
        },
        "id": "XJSnqujZgo9B",
        "outputId": "9e774108-e6a9-40f4-f612-0c52f421cdae"
      },
      "execution_count": 26,
      "outputs": [
        {
          "output_type": "execute_result",
          "data": {
            "text/plain": [
              "(<tf.Tensor: shape=(3,), dtype=string, numpy=array([b'bedroom', b'bathroom', b'garage'], dtype=object)>,\n",
              " <tf.Tensor: shape=(1,), dtype=int32, numpy=array([93700], dtype=int32)>)"
            ]
          },
          "metadata": {},
          "execution_count": 26
        }
      ]
    },
    {
      "cell_type": "code",
      "source": [
        "input_shape = X.shape\n",
        "output_shape = y.shape\n",
        "input_shape, output_shape"
      ],
      "metadata": {
        "colab": {
          "base_uri": "https://localhost:8080/"
        },
        "id": "4j-czRulhHCx",
        "outputId": "fc428ee6-589e-425f-a05a-84b728d75120"
      },
      "execution_count": 27,
      "outputs": [
        {
          "output_type": "execute_result",
          "data": {
            "text/plain": [
              "((8,), (8,))"
            ]
          },
          "metadata": {},
          "execution_count": 27
        }
      ]
    },
    {
      "cell_type": "code",
      "source": [
        "input_shapeX = X[0].shape\n",
        "input_shapeY = y[0].shape\n",
        "input_shapeX, input_shapeY"
      ],
      "metadata": {
        "colab": {
          "base_uri": "https://localhost:8080/"
        },
        "id": "dtddAio2iCup",
        "outputId": "77409355-db46-4006-afeb-0d8237edd4c1"
      },
      "execution_count": 28,
      "outputs": [
        {
          "output_type": "execute_result",
          "data": {
            "text/plain": [
              "((), ())"
            ]
          },
          "metadata": {},
          "execution_count": 28
        }
      ]
    },
    {
      "cell_type": "code",
      "source": [
        "X[0],y[0]"
      ],
      "metadata": {
        "colab": {
          "base_uri": "https://localhost:8080/"
        },
        "id": "4P43q_rRkLW5",
        "outputId": "27b2c5b2-0eb3-470d-d6c6-beb0c47a1dc0"
      },
      "execution_count": 29,
      "outputs": [
        {
          "output_type": "execute_result",
          "data": {
            "text/plain": [
              "(-7.0, 3.0)"
            ]
          },
          "metadata": {},
          "execution_count": 29
        }
      ]
    },
    {
      "cell_type": "code",
      "source": [
        "# Turn our Numpy arrays into tensors\n",
        "\n",
        "X = tf.constant(X)\n",
        "y = tf.constant(y)\n",
        "X, y"
      ],
      "metadata": {
        "colab": {
          "base_uri": "https://localhost:8080/"
        },
        "id": "xG07l0Wlkj4K",
        "outputId": "f558153a-af66-4b13-b3b3-32083c70ab62"
      },
      "execution_count": 48,
      "outputs": [
        {
          "output_type": "execute_result",
          "data": {
            "text/plain": [
              "(<tf.Tensor: shape=(8,), dtype=float64, numpy=array([-7., -4., -1.,  2.,  5.,  8., 11., 14.])>,\n",
              " <tf.Tensor: shape=(8,), dtype=float64, numpy=array([ 3.,  6.,  9., 12., 15., 18., 21., 24.])>)"
            ]
          },
          "metadata": {},
          "execution_count": 48
        }
      ]
    },
    {
      "cell_type": "code",
      "source": [
        "input_shape = X[0].shape\n",
        "output_shape = y[0].shape\n",
        "input_shape, output_shape\n",
        "\n",
        "X, y"
      ],
      "metadata": {
        "colab": {
          "base_uri": "https://localhost:8080/"
        },
        "id": "yIhVb69Rk7zx",
        "outputId": "19bf93e9-f478-4ea3-b9dc-69660c0f5a60"
      },
      "execution_count": 31,
      "outputs": [
        {
          "output_type": "execute_result",
          "data": {
            "text/plain": [
              "(<tf.Tensor: shape=(8,), dtype=float64, numpy=array([-7., -4., -1.,  2.,  5.,  8., 11., 14.])>,\n",
              " <tf.Tensor: shape=(8,), dtype=float64, numpy=array([ 3.,  6.,  9., 12., 15., 18., 21., 24.])>)"
            ]
          },
          "metadata": {},
          "execution_count": 31
        }
      ]
    },
    {
      "cell_type": "markdown",
      "source": [
        "## Steps in modeling with TensorFlow\n",
        "\n",
        "1. Creating a model - define the input and output layers, as well as hidden layers of a deep learning model.\n",
        "2. Compiling a model - define the loss function (in other words, the function that tells our model how wrong it is) and the optimizer(tells our model how to improve the patterns and its learning) and evaluation metrics (what we can use to interpret the performance of our mode)\n",
        "3. Fitting a model - letting the model try to find patterns between X & y"
      ],
      "metadata": {
        "id": "GeY_sVHIlD3Z"
      }
    },
    {
      "cell_type": "code",
      "source": [
        "# Set random seed\n",
        "\n",
        "tf.random.set_seed(42)\n",
        "\n",
        "# 1. Create a model using the Sequential API\n",
        "\n",
        "model = tf.keras.Sequential([\n",
        "    tf.keras.layers.Dense(1)\n",
        "])\n",
        "\n",
        "# 2. Compile the model\n",
        "\n",
        "model.compile(loss=tf.keras.losses.mae, \n",
        "              optimizer=tf.keras.optimizers.SGD(),\n",
        "              metrics=[\"mae\"])\n",
        "\n",
        "# 3. Fit the model\n",
        "model.fit(tf.expand_dims(X, axis=-1), y, epochs=50)"
      ],
      "metadata": {
        "colab": {
          "base_uri": "https://localhost:8080/"
        },
        "id": "kexHQap5lO3j",
        "outputId": "c78c7f47-d195-413d-ba44-bcb2bed87be0"
      },
      "execution_count": 51,
      "outputs": [
        {
          "output_type": "stream",
          "name": "stdout",
          "text": [
            "Epoch 1/50\n",
            "1/1 [==============================] - 0s 259ms/step - loss: 11.5048 - mae: 11.5048\n",
            "Epoch 2/50\n",
            "1/1 [==============================] - 0s 4ms/step - loss: 11.3723 - mae: 11.3723\n",
            "Epoch 3/50\n",
            "1/1 [==============================] - 0s 4ms/step - loss: 11.2398 - mae: 11.2398\n",
            "Epoch 4/50\n",
            "1/1 [==============================] - 0s 5ms/step - loss: 11.1073 - mae: 11.1073\n",
            "Epoch 5/50\n",
            "1/1 [==============================] - 0s 4ms/step - loss: 10.9748 - mae: 10.9748\n",
            "Epoch 6/50\n",
            "1/1 [==============================] - 0s 7ms/step - loss: 10.8423 - mae: 10.8423\n",
            "Epoch 7/50\n",
            "1/1 [==============================] - 0s 3ms/step - loss: 10.7098 - mae: 10.7098\n",
            "Epoch 8/50\n",
            "1/1 [==============================] - 0s 5ms/step - loss: 10.5773 - mae: 10.5773\n",
            "Epoch 9/50\n",
            "1/1 [==============================] - 0s 6ms/step - loss: 10.4448 - mae: 10.4448\n",
            "Epoch 10/50\n",
            "1/1 [==============================] - 0s 6ms/step - loss: 10.3123 - mae: 10.3123\n",
            "Epoch 11/50\n",
            "1/1 [==============================] - 0s 5ms/step - loss: 10.1798 - mae: 10.1798\n",
            "Epoch 12/50\n",
            "1/1 [==============================] - 0s 5ms/step - loss: 10.0473 - mae: 10.0473\n",
            "Epoch 13/50\n",
            "1/1 [==============================] - 0s 6ms/step - loss: 9.9148 - mae: 9.9148\n",
            "Epoch 14/50\n",
            "1/1 [==============================] - 0s 5ms/step - loss: 9.7823 - mae: 9.7823\n",
            "Epoch 15/50\n",
            "1/1 [==============================] - 0s 5ms/step - loss: 9.6498 - mae: 9.6498\n",
            "Epoch 16/50\n",
            "1/1 [==============================] - 0s 5ms/step - loss: 9.5173 - mae: 9.5173\n",
            "Epoch 17/50\n",
            "1/1 [==============================] - 0s 6ms/step - loss: 9.3848 - mae: 9.3848\n",
            "Epoch 18/50\n",
            "1/1 [==============================] - 0s 4ms/step - loss: 9.2523 - mae: 9.2523\n",
            "Epoch 19/50\n",
            "1/1 [==============================] - 0s 5ms/step - loss: 9.1198 - mae: 9.1198\n",
            "Epoch 20/50\n",
            "1/1 [==============================] - 0s 5ms/step - loss: 8.9873 - mae: 8.9873\n",
            "Epoch 21/50\n",
            "1/1 [==============================] - 0s 5ms/step - loss: 8.8548 - mae: 8.8548\n",
            "Epoch 22/50\n",
            "1/1 [==============================] - 0s 6ms/step - loss: 8.7223 - mae: 8.7223\n",
            "Epoch 23/50\n",
            "1/1 [==============================] - 0s 5ms/step - loss: 8.5898 - mae: 8.5898\n",
            "Epoch 24/50\n",
            "1/1 [==============================] - 0s 8ms/step - loss: 8.4573 - mae: 8.4573\n",
            "Epoch 25/50\n",
            "1/1 [==============================] - 0s 6ms/step - loss: 8.3248 - mae: 8.3248\n",
            "Epoch 26/50\n",
            "1/1 [==============================] - 0s 9ms/step - loss: 8.1923 - mae: 8.1923\n",
            "Epoch 27/50\n",
            "1/1 [==============================] - 0s 9ms/step - loss: 8.0598 - mae: 8.0598\n",
            "Epoch 28/50\n",
            "1/1 [==============================] - 0s 7ms/step - loss: 7.9273 - mae: 7.9273\n",
            "Epoch 29/50\n",
            "1/1 [==============================] - 0s 19ms/step - loss: 7.7948 - mae: 7.7948\n",
            "Epoch 30/50\n",
            "1/1 [==============================] - 0s 8ms/step - loss: 7.6623 - mae: 7.6623\n",
            "Epoch 31/50\n",
            "1/1 [==============================] - 0s 9ms/step - loss: 7.5298 - mae: 7.5298\n",
            "Epoch 32/50\n",
            "1/1 [==============================] - 0s 6ms/step - loss: 7.3973 - mae: 7.3973\n",
            "Epoch 33/50\n",
            "1/1 [==============================] - 0s 5ms/step - loss: 7.2648 - mae: 7.2648\n",
            "Epoch 34/50\n",
            "1/1 [==============================] - 0s 8ms/step - loss: 7.2525 - mae: 7.2525\n",
            "Epoch 35/50\n",
            "1/1 [==============================] - 0s 7ms/step - loss: 7.2469 - mae: 7.2469\n",
            "Epoch 36/50\n",
            "1/1 [==============================] - 0s 7ms/step - loss: 7.2413 - mae: 7.2413\n",
            "Epoch 37/50\n",
            "1/1 [==============================] - 0s 5ms/step - loss: 7.2356 - mae: 7.2356\n",
            "Epoch 38/50\n",
            "1/1 [==============================] - 0s 6ms/step - loss: 7.2300 - mae: 7.2300\n",
            "Epoch 39/50\n",
            "1/1 [==============================] - 0s 4ms/step - loss: 7.2244 - mae: 7.2244\n",
            "Epoch 40/50\n",
            "1/1 [==============================] - 0s 6ms/step - loss: 7.2188 - mae: 7.2188\n",
            "Epoch 41/50\n",
            "1/1 [==============================] - 0s 4ms/step - loss: 7.2131 - mae: 7.2131\n",
            "Epoch 42/50\n",
            "1/1 [==============================] - 0s 6ms/step - loss: 7.2075 - mae: 7.2075\n",
            "Epoch 43/50\n",
            "1/1 [==============================] - 0s 4ms/step - loss: 7.2019 - mae: 7.2019\n",
            "Epoch 44/50\n",
            "1/1 [==============================] - 0s 7ms/step - loss: 7.1963 - mae: 7.1963\n",
            "Epoch 45/50\n",
            "1/1 [==============================] - 0s 5ms/step - loss: 7.1906 - mae: 7.1906\n",
            "Epoch 46/50\n",
            "1/1 [==============================] - 0s 8ms/step - loss: 7.1850 - mae: 7.1850\n",
            "Epoch 47/50\n",
            "1/1 [==============================] - 0s 11ms/step - loss: 7.1794 - mae: 7.1794\n",
            "Epoch 48/50\n",
            "1/1 [==============================] - 0s 6ms/step - loss: 7.1738 - mae: 7.1738\n",
            "Epoch 49/50\n",
            "1/1 [==============================] - 0s 5ms/step - loss: 7.1681 - mae: 7.1681\n",
            "Epoch 50/50\n",
            "1/1 [==============================] - 0s 4ms/step - loss: 7.1625 - mae: 7.1625\n"
          ]
        },
        {
          "output_type": "execute_result",
          "data": {
            "text/plain": [
              "<keras.callbacks.History at 0x7f683cc09c90>"
            ]
          },
          "metadata": {},
          "execution_count": 51
        }
      ]
    },
    {
      "cell_type": "code",
      "source": [
        ""
      ],
      "metadata": {
        "id": "ODsvvOaZnfrb"
      },
      "execution_count": null,
      "outputs": []
    }
  ]
}